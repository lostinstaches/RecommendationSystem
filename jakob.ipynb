{
 "cells": [
  {
   "cell_type": "code",
   "execution_count": 1,
   "metadata": {},
   "outputs": [],
   "source": [
    "from helpers import load_data, preprocess_data\n",
    "from plots import plot_train_test_data\n",
    "from helpers import split_data\n",
    "from helpers import init_MF\n",
    "from plots import plot_raw_data\n",
    "from helpers import calculate_mse\n",
    "\n",
    "# Useful starting lines\n",
    "%matplotlib inline\n",
    "\n",
    "import numpy as np\n",
    "import scipy\n",
    "import scipy.io\n",
    "import scipy.sparse as sp\n",
    "import matplotlib.pyplot as plt\n",
    "import scipy.sparse as sp\n",
    "\n",
    "\n",
    "%load_ext autoreload\n",
    "%autoreload 2"
   ]
  },
  {
   "cell_type": "markdown",
   "metadata": {},
   "source": [
    "## Preprocessing.."
   ]
  },
  {
   "cell_type": "code",
   "execution_count": 2,
   "metadata": {},
   "outputs": [
    {
     "name": "stdout",
     "output_type": "stream",
     "text": [
      "number of items: 10000, number of users: 1000\n"
     ]
    }
   ],
   "source": [
    "path_dataset = \"./data/de_data_train.csv\"\n",
    "ratings = load_data(path_dataset)"
   ]
  },
  {
   "cell_type": "code",
   "execution_count": 3,
   "metadata": {},
   "outputs": [
    {
     "data": {
      "image/png": "[encoded data removed]",
      "text/plain": [
       "<Figure size 432x288 with 2 Axes>"
      ]
     },
     "metadata": {},
     "output_type": "display_data"
    }
   ],
   "source": [
    "num_items_per_user, num_users_per_item = plot_raw_data(ratings)"
   ]
  },
  {
   "cell_type": "code",
   "execution_count": 4,
   "metadata": {},
   "outputs": [
    {
     "name": "stdout",
     "output_type": "stream",
     "text": [
      "Total number of nonzero elements in origial data:1176952\n",
      "Total number of nonzero elements in train data:1059177\n",
      "Total number of nonzero elements in test data:117775\n"
     ]
    }
   ],
   "source": [
    "valid_ratings, train, test = split_data(\n",
    "    ratings, num_items_per_user, num_users_per_item, min_num_ratings=0, p_test=0.1)"
   ]
  },
  {
   "cell_type": "markdown",
   "metadata": {},
   "source": [
    "### Baseline models"
   ]
  },
  {
   "cell_type": "code",
   "execution_count": 16,
   "metadata": {},
   "outputs": [
    {
     "name": "stdout",
     "output_type": "stream",
     "text": [
      "RMSE: 1.1217386297173755\n"
     ]
    }
   ],
   "source": [
    "def baseline_global_mean(train, test):\n",
    "    \"\"\"baseline method: use the global mean.\"\"\"\n",
    "    global_mean = train[train.nonzero()].mean()\n",
    "    nnz_test = test[test.nonzero()].todense() \n",
    "    mse = calculate_mse(nnz_test, global_mean)\n",
    "    rmse = np.sqrt(mse / nnz_test.shape[1])\n",
    "    return np.squeeze(rmse).item()\n",
    "print(\"RMSE global: {}\".format(baseline_global_mean(train, test)))"
   ]
  },
  {
   "cell_type": "code",
   "execution_count": 26,
   "metadata": {},
   "outputs": [
    {
     "name": "stdout",
     "output_type": "stream",
     "text": [
      "RMSE user-mean: 1.0319099240955814\n"
     ]
    }
   ],
   "source": [
    "def baseline_user_mean(train, test):\n",
    "    \"\"\"baseline method: use the user means as the prediction.\"\"\"\n",
    "    mse = 0\n",
    "    _, num_users = train.shape\n",
    "    for user in range(num_users):\n",
    "        user_ratings_train = train[:, user]\n",
    "        nnz_train = user_ratings_train[user_ratings_train.nonzero()]\n",
    "        if nnz_train.shape[0] == 0:\n",
    "            continue\n",
    "        user_mean = nnz_train.mean()            \n",
    "        user_ratings_test = test[:, user]\n",
    "        nnz_test = user_ratings_test[user_ratings_test.nonzero()].todense()\n",
    "        mse += calculate_mse(nnz_test, user_mean)\n",
    "    return np.sqrt(1.0 * mse / test.nnz).item()\n",
    "print(\"RMSE user-mean: {}\".format(baseline_user_mean(train, test)))"
   ]
  },
  {
   "cell_type": "code",
   "execution_count": 25,
   "metadata": {},
   "outputs": [
    {
     "name": "stdout",
     "output_type": "stream",
     "text": [
      "RMSE item-mean: 1.0959075588942098\n"
     ]
    }
   ],
   "source": [
    "def baseline_item_mean(train, test):\n",
    "    \"\"\"baseline method: use item means as the prediction.\"\"\"\n",
    "    return baseline_user_mean(train.T, test.T)\n",
    "print(\"RMSE item-mean: {}\".format(baseline_item_mean(train, test)))"
   ]
  },
  {
   "cell_type": "markdown",
   "metadata": {},
   "source": [
    "#### Baseline estimate model"
   ]
  },
  {
   "cell_type": "code",
   "execution_count": 104,
   "metadata": {},
   "outputs": [
    {
     "name": "stdout",
     "output_type": "stream",
     "text": [
      "Starting SGD...\n",
      "iter: 0, RMSE on training set: 0.9994629076738408.\n",
      "iter: 1, RMSE on training set: 0.9956075486578966.\n",
      "iter: 2, RMSE on training set: 0.99370587331951.\n",
      "iter: 3, RMSE on training set: 0.9930551822462327.\n",
      "iter: 4, RMSE on training set: 0.9924684505310238.\n",
      "iter: 5, RMSE on training set: 0.9920580299985728.\n",
      "iter: 6, RMSE on training set: 0.9915115565597591.\n",
      "iter: 7, RMSE on training set: 0.9913468214722916.\n",
      "iter: 8, RMSE on training set: 0.9911768392951089.\n",
      "iter: 9, RMSE on training set: 0.9910120783857594.\n",
      "RMSE on test data: 1.001507976095007.\n"
     ]
    }
   ],
   "source": [
    "def compute_error_baseline_estimate(data, \n",
    "                                    nz, \n",
    "                                    user_bias, \n",
    "                                    item_bias, \n",
    "                                    global_bias,\n",
    "                                    lambda_user_bias,\n",
    "                                    lambda_item_bias):\n",
    "    mse = 0\n",
    "    for item, user in nz:\n",
    "        prediction = global_bias + item_bias[item] + user_bias[user]\n",
    "        mse += (data[item, user] - prediction) ** 2\n",
    "    reg = lambda_user_bias * user_bias.T.dot(user_bias) + lambda_item_bias * item_bias.T.dot(item_bias)\n",
    "    mse += reg\n",
    "    return np.sqrt(mse / len(nz))\n",
    "\n",
    "\n",
    "# See 2.1 http://www.cs.rochester.edu/twiki/pub/Main/HarpSeminar/Factorization_Meets_the_Neighborhood-_a_Multifaceted_Collaborative_Filtering_Model.pdf\n",
    "def baseline_estimate(train,\n",
    "                      test,\n",
    "                      gamma=0.02, \n",
    "                      num_features=20,\n",
    "                      lambda_user_bias=0.1,\n",
    "                      lambda_item_bias=0.1,\n",
    "                      num_epochs=10):\n",
    "    \n",
    "    global_bias = train[train.nonzero()].mean()\n",
    "    \n",
    "    # He init\n",
    "    user_bias = np.random.normal(scale=np.sqrt(2/num_features), size=train.shape[1])\n",
    "    item_bias = np.random.normal(scale=np.sqrt(2/num_features), size=train.shape[0])\n",
    "    \n",
    "    nz_row, nz_col = train.nonzero()\n",
    "    nz_train = list(zip(nz_row, nz_col))\n",
    "    nz_row, nz_col = test.nonzero()\n",
    "    nz_test = list(zip(nz_row, nz_col))\n",
    "\n",
    "    print(\"Starting SGD...\")\n",
    "    for it in range(num_epochs):\n",
    "        np.random.shuffle(nz_train)\n",
    "        gamma /= 1.2\n",
    "        for d, n in nz_train:\n",
    "            prediction = global_bias + user_bias[n] + item_bias[d]\n",
    "            error = train[d, n] - prediction\n",
    "            # Update variables\n",
    "            user_bias[n] +=  gamma * (error - lambda_user_bias * user_bias[n])\n",
    "            item_bias[d] +=  gamma * (error - lambda_item_bias * item_bias[d])\n",
    "        rmse = compute_error_baseline_estimate(train, \n",
    "                                               nz_train, \n",
    "                                               user_bias, \n",
    "                                               item_bias, \n",
    "                                               global_bias,\n",
    "                                               lambda_user_bias,\n",
    "                                               lambda_item_bias)\n",
    "        print(\"iter: {}, RMSE on training set: {}.\".format(it, rmse))\n",
    "        \n",
    "    rmse = compute_error_baseline_estimate(test, \n",
    "                                           nz_test, \n",
    "                                           user_bias, \n",
    "                                           item_bias,\n",
    "                                           global_bias,\n",
    "                                           lambda_user_bias,\n",
    "                                           lambda_item_bias)\n",
    "    print(\"RMSE on test data: {}.\".format(rmse))\n",
    "    \n",
    "    return user_bias, item_bias, global_bias \n",
    "\n",
    "user_bias, item_bias, global_bias = baseline_estimate(train, test)"
   ]
  },
  {
   "cell_type": "code",
   "execution_count": 106,
   "metadata": {},
   "outputs": [],
   "source": [
    "from helpers import create_submission_baseline_estimate\n",
    "create_submission_baseline_estimate(user_bias, item_bias, global_bias)"
   ]
  },
  {
   "cell_type": "markdown",
   "metadata": {},
   "source": [
    "## KNN"
   ]
  },
  {
   "cell_type": "code",
   "execution_count": 309,
   "metadata": {},
   "outputs": [],
   "source": [
    "from helpers import build_index_groups\n",
    "\n",
    "nz_train, nz_item_userindices, nz_user_itemindices = build_index_groups(train)\n",
    "\n",
    "num_items, num_users = train.shape\n",
    "for user, items in nz_user_itemindices:\n",
    "    user_means[user] = train[items, user].mean()"
   ]
  },
  {
   "cell_type": "code",
   "execution_count": 352,
   "metadata": {},
   "outputs": [],
   "source": [
    "# Takes ~10 min to compute!\n",
    "def construct_similarity_matrix(data, nz_user_userindices):\n",
    "    num_items, num_users = data.shape\n",
    "    print(\"Constructing sim matrix\")\n",
    "    similarity_matrix = np.zeros((num_users, num_users))\n",
    "    for i, items_i in nz_user_itemindices:\n",
    "        print(i)\n",
    "        for j, items_j in nz_user_itemindices:\n",
    "            if i == j:\n",
    "                continue\n",
    "                            \n",
    "            item_intersection = np.intersect1d(items_i, items_j)\n",
    "            \n",
    "            if len(item_intersection) == 0:\n",
    "                continue\n",
    "            \n",
    "            # Calculate pearson coefficient, could might as well have used np.corrcoef\n",
    "            # but calculatig it yourself is so much more fun!\n",
    "            \n",
    "            r_i = data[item_intersection, i].todense()\n",
    "            r_i = r_i -  r_i.mean()\n",
    "            r_j = data[item_intersection, j].todense()\n",
    "            r_j = r_j -  r_j.mean()\n",
    "     \n",
    "            numerator = r_i.T @ r_j\n",
    "\n",
    "            denominator = np.sqrt(r_i.T.dot(r_i)) * np.sqrt(r_j.T.dot(r_j))\n",
    "            similarity_matrix[i, j] = numerator / denominator if denominator > 0 else 0       \n",
    "            \n",
    "    return similarity_matrix"
   ]
  },
  {
   "cell_type": "code",
   "execution_count": 353,
   "metadata": {},
   "outputs": [],
   "source": [
    "def construct_s_matrix(train, nz_train, user_means):\n",
    "    s_matrix = sp.lil_matrix(train.shape)\n",
    "    #nz_row, nz_col = train.nonzero()\n",
    "    #nz_train = list(zip(nz_row, nz_col))\n",
    "    print(\"Constructing S matrix...\")\n",
    "    for d, n in nz_train:\n",
    "        s_matrix[d, n] = train[d, n] - user_means[n]\n",
    "    return s_matrix"
   ]
  },
  {
   "cell_type": "code",
   "execution_count": 354,
   "metadata": {},
   "outputs": [],
   "source": [
    "def evaluate_knn(similarity_matrix, s_matrix, test, k, nz_item_userindices, similarity_treshold=0.1):\n",
    "    mse = 0\n",
    "    nz_row, nz_col = test.nonzero()\n",
    "    nz_test = list(zip(nz_row, nz_col))\n",
    "    iters = 0\n",
    "    print(\"Starting evaluation..\")\n",
    "    for d, n in nz_test:\n",
    "        iters += 1\n",
    "        if iters % 10000 == 0:\n",
    "            print(iters)\n",
    "            \n",
    "        # Get index of k most similar users\n",
    "        # Set all similarityis not in d_users to zero -> argsort -> take top k.\n",
    "        _, d_users = nz_item_userindices[d]\n",
    "        d_users_similarity = similarity_matrix[n, :].copy()\n",
    "        kn_index = np.zeros(similarity_matrix.shape[1])\n",
    "        kn_index[d_users] = similarity_matrix[n, d_users]\n",
    "        kn_index = kn_index.argsort()[-k:][::-1]\n",
    "\n",
    "        kn_similarity = kn_similarity[n, kn_index] \n",
    "        \n",
    "        kn_mean_centered_rating = s_matrix[d, kn_index].todense()\n",
    "        kn_mean_centered_rating = np.squeeze(np.asarray(kn_mean_centered_rating))\n",
    "        \n",
    "        # Remove users with low similarity as described, heuristic desribed in 2.3.1\n",
    "        kn_mean_centered_rating = kn_mean_centered_rating[kn_similarity > similarity_treshold]\n",
    "        kn_similarity = kn_similarity[kn_similarity > similarity_treshold]\n",
    "\n",
    "        # Compute prediction\n",
    "        numerator = kn_mean_centered_rating.dot(kn_similarity)\n",
    "        denominator = np.sum(np.abs(similarity_matrix[n, kn_index]))\n",
    "        \n",
    "        prediction = numerator / denominator\n",
    "    \n",
    "        user_mean = user_means[n]\n",
    "        prediction = user_mean + prediction\n",
    "        \n",
    "        # Compute error\n",
    "        mse += (test[d, n] - prediction) ** 2\n",
    "        \n",
    "    return np.sqrt(mse / len(nz_test))"
   ]
  },
  {
   "cell_type": "code",
   "execution_count": null,
   "metadata": {},
   "outputs": [],
   "source": [
    "similarity_matrix = construct_similarity_matrix(train, nz_user_itemindices)"
   ]
  },
  {
   "cell_type": "code",
   "execution_count": null,
   "metadata": {},
   "outputs": [],
   "source": [
    "# user-specific KNN\n",
    "def KNN(similarity_matrix, train, test, k, nz_train, nz_item_userindices, nz_user_itemindices, user_means):\n",
    "    #nz_train, nz_item_userindices, nz_user_itemindices = build_index_groups(train)\n",
    "    #similarity_matrix = construct_similarity_matrix(train, nz_user_itemindices)\n",
    "    s_matrix = construct_s_matrix(train, nz_train, user_means)\n",
    "    print(evaluate_knn(similarity_matrix, s_matrix, test, k, nz_item_userindices))\n",
    "    \n",
    "KNN(similarity_matrix,  train, test, 40, nz_train, nz_item_userindices, nz_user_itemindices, user_means)"
   ]
  },
  {
   "cell_type": "code",
   "execution_count": 319,
   "metadata": {},
   "outputs": [],
   "source": [
    "from sklearn.neighbors import NearestNeighbors\n",
    "model = NearestNeighbors(n_neighbors=25, metric='correlation')\n",
    "model.fit(train.todense())\n",
    "distances, indices = model.kneighbors(test.todense())"
   ]
  },
  {
   "cell_type": "code",
   "execution_count": 321,
   "metadata": {},
   "outputs": [
    {
     "name": "stdout",
     "output_type": "stream",
     "text": [
      "[0.71805531 0.72333828 0.72889909 0.73265069 0.74629688 0.76158883\n",
      " 0.7670455  0.7752808  0.77637654 0.78435691 0.79026452 0.79066985\n",
      " 0.79232536 0.79292786 0.79354054 0.79468498 0.80946411 0.81175635\n",
      " 0.81250677 0.81265502 0.81674545 0.81690947 0.81691794 0.81733007\n",
      " 0.81753813]\n",
      "[6494 4381 4031 2692 5496 4681 4714 1793 6651  833 9760 6695 9594 7485\n",
      " 1324 3891 9864 6192 6124 2376 2843 5027 7361  510 9852]\n"
     ]
    }
   ],
   "source": [
    "print(distances[0])\n",
    "print(indices[0])\n",
    "#print(distances.shape)\n",
    "#print(indices.shape)\n",
    "\n",
    "#for d, n in nz_test[:20000]:\n",
    "#    k_near = distances[n]\n",
    "#    \n",
    "#    numerator = np.sum(sim * s)\n",
    "#    denominator = np.sum(np.abs(similarity_matrix[n, k_similar_index]))\n"
   ]
  },
  {
   "cell_type": "markdown",
   "metadata": {},
   "source": [
    "## Matrix factorization baseline latent factors"
   ]
  },
  {
   "cell_type": "code",
   "execution_count": null,
   "metadata": {},
   "outputs": [],
   "source": [
    "def compute_error_baseline(data, user_features, item_features, nz):\n",
    "    mse = 0   \n",
    "    for row, col in nz:\n",
    "        p = user_features[:, col]\n",
    "        q = item_features[:, row]\n",
    "        prediction = p.T.dot(q)\n",
    "        mse += (data[row, col] - prediction)**2\n",
    "    return np.sqrt(1.0 * mse / len(nz))\n",
    "\n",
    "def matrix_factorization_SGD_baseline(train, \n",
    "                             test, \n",
    "                             num_features=20, \n",
    "                             gamma=0.05, \n",
    "                             lambda_user=0.1, \n",
    "                             lambda_item=0.7, \n",
    "                             num_epochs=10):     \n",
    "    \"\"\"matrix factorization by SGD.\"\"\"\n",
    "\n",
    "    # set seed\n",
    "    np.random.seed(988)\n",
    "\n",
    "    # init matrix\n",
    "    user_features, item_features = init_MF(train, num_features)\n",
    "    \n",
    "    # find the non-zero ratings indices \n",
    "    nz_row, nz_col = train.nonzero()\n",
    "    nz_train = list(zip(nz_row, nz_col))\n",
    "    nz_row, nz_col = test.nonzero()\n",
    "    nz_test = list(zip(nz_row, nz_col))\n",
    "\n",
    "    print(\"learn the matrix factorization using SGD...\")\n",
    "    for it in range(num_epochs):        \n",
    "        # shuffle the training rating indices\n",
    "        np.random.shuffle(nz_train)\n",
    "        \n",
    "        # decrease step size\n",
    "        gamma /= 1.2\n",
    "\n",
    "        for d, n in nz_train:\n",
    "\n",
    "            q = item_features[:, d]\n",
    "            p = user_features[:, n]\n",
    "            prediction = p.T.dot(q)  \n",
    "            \n",
    "            error = train[d, n] - prediction\n",
    "            \n",
    "            # Update variables\n",
    "            item_features[:, d] += gamma * (error * p - lambda_item * q)\n",
    "            user_features[:, n] += gamma * (error * q - lambda_user * p)\n",
    "     \n",
    "        rmse = compute_error_v1(train, user_features, item_features, nz_train)\n",
    "        print(\"iter: {}, RMSE on training set: {}.\".format(it, rmse)) \n",
    "        rmse = compute_error_v1(test, user_features, item_features, nz_test)\n",
    "        print(\"RMSE on test data: {}.\".format(rmse))\n",
    "    return item_features, user_features\n",
    "        \n",
    "item_features, user_features = matrix_factorization_SGD_baseline(train, \n",
    "                                                           test, \n",
    "                                                           gamma=0.013, \n",
    "                                                           lambda_user=0.1,\n",
    "                                                           lambda_item=0.5,\n",
    "                                                           num_epochs=5,\n",
    "                                                           num_features=20)"
   ]
  },
  {
   "cell_type": "markdown",
   "metadata": {},
   "source": [
    "## Matrix factorization biased"
   ]
  },
  {
   "cell_type": "code",
   "execution_count": null,
   "metadata": {},
   "outputs": [],
   "source": [
    "def compute_error_biased(data, user_features, item_features, nz, user_bias, item_bias, global_mean):\n",
    "    mse = 0   \n",
    "    for d, n in nz:\n",
    "        p = user_features[:, n]\n",
    "        q = item_features[:, d]\n",
    "        base = global_mean + user_bias[n] + item_bias[d]\n",
    "        prediction = base + p.T.dot(q)\n",
    "        mse += (data[d, n] - prediction)**2\n",
    "    return np.sqrt(1.0 * mse / len(nz))\n",
    "\n",
    "\n",
    "\n",
    "\n",
    "def matrix_factorization_SGD_biased(train, \n",
    "                             test, \n",
    "                             num_features=20, \n",
    "                             gamma=0.05, \n",
    "                             lambda_user_bias = 0.1,\n",
    "                             lambda_item_bias = 0.1,\n",
    "                             lambda_user=0.1, \n",
    "                             lambda_item=0.7, \n",
    "                             num_epochs=10):    \n",
    "    \"\"\"matrix factorization by SGD.\"\"\"\n",
    "\n",
    "    # set seed\n",
    "    np.random.seed(988)\n",
    "\n",
    "    # init matrix\n",
    "    user_features, item_features = init_MF(train, num_features)\n",
    "    \n",
    "    # find the non-zero ratings indices \n",
    "    nz_row, nz_col = train.nonzero()\n",
    "    nz_train = list(zip(nz_row, nz_col))\n",
    "    nz_row, nz_col = test.nonzero()\n",
    "    nz_test = list(zip(nz_row, nz_col))\n",
    "    \n",
    "    global_mean = train[train.nonzero()].mean()\n",
    "    user_bias = np.random.normal(scale=np.sqrt(2/num_features), size=train.shape[1])\n",
    "    item_bias = np.random.normal(scale=np.sqrt(2/num_features), size=train.shape[0])\n",
    "    \n",
    "    print(\"learn the matrix factorization using SGD...\")\n",
    "    for it in range(num_epochs):        \n",
    "        # shuffle the training rating indices\n",
    "        np.random.shuffle(nz_train)\n",
    "        \n",
    "        # decrease step size\n",
    "        gamma /= 1.2\n",
    "\n",
    "        for d, n in nz_train:\n",
    "\n",
    "            q = item_features[:, d]\n",
    "            p = user_features[:, n]\n",
    "            base_prediction = global_mean + item_bias[d] + user_bias[n]\n",
    "            prediction =  base_prediction + p.T.dot(q)\n",
    "            error = train[d, n] - prediction\n",
    "            \n",
    "            # Update variables\n",
    "            user_bias[n] +=  gamma * (error - lambda_user_bias * user_bias[n])\n",
    "            item_bias[d] +=  gamma * (error - lambda_item_bias * item_bias[d])\n",
    "            item_features[:, d] += gamma * ((error * p - lambda_item * q))\n",
    "            user_features[:, n] += gamma * ((error * q - lambda_user * p))\n",
    "     \n",
    "        rmse = compute_error_v2(train, user_features, item_features, nz_train, user_bias, item_bias, global_mean)\n",
    "        print(\"iter: {}, RMSE on training set: {}.\".format(it, rmse)) # \n",
    "        rmse = compute_error_v2(test, user_features, item_features, nz_test, user_bias, item_bias, global_mean)\n",
    "        print(\"RMSE on test data: {}.\".format(rmse))\n",
    "    return item_features, user_features, user_bias, item_bias, global_mean\n",
    "\n",
    "item_features, user_features, user_bias, item_bias, global_bias = matrix_factorization_SGD_biased(\n",
    "    train, \n",
    "    test, \n",
    "    gamma=0.02, \n",
    "    num_epochs=20,\n",
    "    num_features=10)\n"
   ]
  },
  {
   "cell_type": "markdown",
   "metadata": {},
   "source": [
    "## Matrix factorization SVD++ (VERY SLOW)"
   ]
  },
  {
   "cell_type": "code",
   "execution_count": null,
   "metadata": {},
   "outputs": [],
   "source": [
    "def compute_error_v3(data, \n",
    "                     user_features, \n",
    "                     item_features, \n",
    "                     nz, \n",
    "                     user_bias, \n",
    "                     item_bias, \n",
    "                     global_mean, \n",
    "                     yj,\n",
    "                     nnz_user):\n",
    "    mse = 0   \n",
    "    feedbacks = []\n",
    "    for user in range(user_features.shape[1]):\n",
    "        nz_row, _ = nnz_user[user]\n",
    "        implicit_feedback = np.sum(yj[nz_row, :], axis=0)\n",
    "        if len(nz_row) > 0:\n",
    "            implicit_feedback /= np.sqrt(len(nz_row))\n",
    "        feedbacks.append(implicit_feedback)\n",
    "    \n",
    "    for row, col in nz:\n",
    "        user = col\n",
    "        implicit_feedback = feedbacks[user]\n",
    "        p = user_features[:, col] + implicit_feedback\n",
    "        q = item_features[:, row]\n",
    "        base = global_mean + user_bias[col] + item_bias[row]\n",
    "        prediction = base + q.dot(p.T)\n",
    "        mse += (data[row, col] - prediction)**2\n",
    "    return np.sqrt(1.0 * mse / len(nz))\n",
    "\n",
    "\n",
    "\n",
    "# SVD++\n",
    "def matrix_factorization_SGD_v3(train, \n",
    "                             test, \n",
    "                             num_features=20, \n",
    "                             gamma=0.05, \n",
    "                             lambda_user=0.1, \n",
    "                             lambda_item=0.7,\n",
    "                             lambda_yj=0.1,\n",
    "                             lambda_user_bias=0.1,\n",
    "                             lambda_item_bias=0.1,\n",
    "                             num_epochs=5):\n",
    "    \n",
    "    \n",
    "    nz_train, nz_item_userindices, nz_user_itemindices = build_index_groups(train)\n",
    "        \n",
    "\n",
    "    # set seed\n",
    "    np.random.seed(988)\n",
    "\n",
    "    # init matrix\n",
    "    user_features, item_features = init_MF(train, num_features)\n",
    "    \n",
    "    # find the non-zero ratings indices \n",
    "    nz_row, nz_col = train.nonzero()\n",
    "    nz_train = list(zip(nz_row, nz_col))\n",
    "    nz_row, nz_col = test.nonzero()\n",
    "    nz_test = list(zip(nz_row, nz_col))\n",
    "    \n",
    "    global_mean = train[train.nonzero()].mean()\n",
    "    user_bias = np.random.normal(scale=0.00, size=train.shape[1])\n",
    "    item_bias = np.random.normal(scale=0.00, size=train.shape[0])\n",
    "    \n",
    "    yj = np.random.normal(scale=0.1, size=(train.shape[0], num_features))\n",
    "    \n",
    "    nnz_users_train = []\n",
    "    for user in range(train.shape[1]):\n",
    "        nnz_users_train.append(train[:, user].nonzero())\n",
    "    \n",
    "    \n",
    "    print(\"learn the matrix factorization using SGD...\")\n",
    "    for it in range(num_epochs):        \n",
    "        # shuffle the training rating indices\n",
    "        np.random.shuffle(nz_train)\n",
    "        \n",
    "        # decrease step size\n",
    "        gamma /= 1.2\n",
    "    \n",
    "        iters = 0\n",
    "        \n",
    "        for d, n in nz_train:\n",
    "            iters += 1\n",
    "            if iters % 3000 == 0:\n",
    "                print(iters)\n",
    "            \n",
    "            # Calculate implicit feedback, expensive!\n",
    "            nz_row, _ = nnz_users_train[n]\n",
    "            lSqrt = np.sqrt(len(nz_row))\n",
    "            implicit_feedback = np.sum(yj[nz_row, :], axis=0)\n",
    "            implicit_feedback /= lSqrt\n",
    "            \n",
    "            q = item_features[:, d]\n",
    "            p = user_features[:, n] + implicit_feedback\n",
    "            base_prediction = global_mean + item_bias[d] + user_bias[n]\n",
    "            prediction = base_prediction + p.T.dot(q)\n",
    "            error = train[d, n] - prediction \n",
    "            \n",
    "            \n",
    "            # Update variables\n",
    "            user_bias[n] +=  gamma * (error - lambda_user_bias * user_bias[n])\n",
    "            item_bias[d] +=  gamma * (error - lambda_item_bias * item_bias[d])\n",
    "            \n",
    "            \n",
    "            # Update implicit feedback, expensive!\n",
    "            yj[nz_row, :] += gamma * (error * q / lSqrt - lambda_yj * yj[nz_row, :])\n",
    "            \n",
    "            item_features[:, d] += gamma * ((error * p - lambda_item * q))\n",
    "            user_features[:, n] += gamma * ((error * q - lambda_user * p)) \n",
    "     \n",
    "        rmse = compute_error_v3(train, user_features, item_features, nz_train, user_bias, item_bias, global_mean, yj, nnz_users_train)\n",
    "        print(\"iter: {}, RMSE on training set: {}.\".format(it, rmse)) \n",
    "        rmse = compute_error_v3(test, user_features, item_features, nz_test, user_bias, item_bias, global_mean, yj, nnz_users_train)\n",
    "        print(\"RMSE on test data: {}.\".format(rmse))\n",
    "    return item_features, user_features, user_bias, item_bias, global_mean\n",
    "\n",
    " \n",
    "# trying to beat : 0.9390441348636658\n",
    "item_features, user_features, user_bias, item_bias, global_mean = matrix_factorization_SGD_v3(train, \n",
    "                                                                                              test, \n",
    "                                                                                              gamma=0.02, \n",
    "                                                                                              num_features=17, \n",
    "                                                                                              lambda_yj=0.001, \n",
    "                                                                                              lambda_user=0.1, \n",
    "                                                                                              lambda_item=0.7, \n",
    "                                                                                              lambda_user_bias=0.1, \n",
    "                                                                                              lambda_item_bias=0.1) \n"
   ]
  }
 ],
 "metadata": {
  "kernelspec": {
   "display_name": "Python 3",
   "language": "python",
   "name": "python3"
  },
  "language_info": {
   "codemirror_mode": {
    "name": "ipython",
    "version": 3
   },
   "file_extension": ".py",
   "mimetype": "text/x-python",
   "name": "python",
   "nbconvert_exporter": "python",
   "pygments_lexer": "ipython3",
   "version": "3.6.5"
  }
 },
 "nbformat": 4,
 "nbformat_minor": 2
}
