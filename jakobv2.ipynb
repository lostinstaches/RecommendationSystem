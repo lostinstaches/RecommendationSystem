{
 "cells": [
  {
   "cell_type": "code",
   "execution_count": 13,
   "metadata": {},
   "outputs": [],
   "source": [
    "import numpy as np\n",
    "import pandas as pd\n",
    "from surprise import Reader\n",
    "from surprise import Dataset\n",
    "from surprise import SVD\n",
    "from surprise.model_selection import GridSearchCV"
   ]
  },
  {
   "cell_type": "code",
   "execution_count": 14,
   "metadata": {},
   "outputs": [],
   "source": [
    "data_df = pd.read_csv(\"./data/de_data_train.csv\")\n",
    "data_df['user'] = data_df['Id'].str.split('_').str[0].apply(lambda x: x[1:])\n",
    "data_df['item'] = data_df['Id'].str.split('_').str[1].apply(lambda x: x[1:])\n",
    "data_df = data_df.rename(columns={'Prediction':'rating'})\n",
    "data_df = data_df[['user','item','rating']]\n",
    "reader = Reader(rating_scale=(1, 5))\n",
    "data = Dataset.load_from_df(data_df, reader=reader)\n",
    "trainset, valset = train_test_split(data, test_size=.15)"
   ]
  },
  {
   "cell_type": "code",
   "execution_count": 15,
   "metadata": {},
   "outputs": [],
   "source": [
    "reader = Reader(rating_scale=(1, 5))\n",
    "data = Dataset.load_from_df(data_df, reader=reader)"
   ]
  },
  {
   "cell_type": "code",
   "execution_count": 25,
   "metadata": {},
   "outputs": [
    {
     "name": "stderr",
     "output_type": "stream",
     "text": [
      "[Parallel(n_jobs=1)]: Using backend SequentialBackend with 1 concurrent workers.\n",
      "[Parallel(n_jobs=1)]: Done   6 out of   6 | elapsed:  2.9min finished\n"
     ]
    }
   ],
   "source": [
    "param_grid = {'n_epochs': [7,9], \n",
    "              'n_factors': [10], \n",
    "              'reg_all': [0.2], \n",
    "              'lr_all': [0.01]}\n",
    "gs = GridSearchCV(SVD, \n",
    "                  param_grid, \n",
    "                  measures=['rmse', 'mae'], \n",
    "                  return_train_measures=True,\n",
    "                  cv=3, \n",
    "                  joblib_verbose=1)\n",
    "gs.fit(data)"
   ]
  },
  {
   "cell_type": "code",
   "execution_count": 26,
   "metadata": {},
   "outputs": [
    {
     "data": {
      "text/plain": [
       "{'split0_test_rmse': array([1.01496719, 1.01472324]),\n",
       " 'split0_train_rmse': array([1.00292388, 1.00257793]),\n",
       " 'split1_test_rmse': array([1.01287021, 1.01260982]),\n",
       " 'split1_train_rmse': array([1.00317108, 1.00279213]),\n",
       " 'split2_test_rmse': array([1.01442078, 1.01415461]),\n",
       " 'split2_train_rmse': array([1.00224961, 1.00189728]),\n",
       " 'mean_test_rmse': array([1.01408606, 1.01382923]),\n",
       " 'std_test_rmse': array([0.0008882 , 0.00089295]),\n",
       " 'mean_train_rmse': array([1.00278152, 1.00242245]),\n",
       " 'std_train_rmse': array([0.00038943, 0.00038151]),\n",
       " 'rank_test_rmse': array([2, 1]),\n",
       " 'split0_test_mae': array([0.83363164, 0.83318515]),\n",
       " 'split0_train_mae': array([0.82399302, 0.82347252]),\n",
       " 'split1_test_mae': array([0.83245979, 0.83197196]),\n",
       " 'split1_train_mae': array([0.82427181, 0.82368404]),\n",
       " 'split2_test_mae': array([0.83279278, 0.83230724]),\n",
       " 'split2_train_mae': array([0.82322972, 0.82267888]),\n",
       " 'mean_test_mae': array([0.8329614 , 0.83248812]),\n",
       " 'std_test_mae': array([0.00049304, 0.00051153]),\n",
       " 'mean_train_mae': array([0.82383151, 0.82327848]),\n",
       " 'std_train_mae': array([0.00044049, 0.00043268]),\n",
       " 'rank_test_mae': array([2, 1]),\n",
       " 'mean_fit_time': array([ 8.2542371 , 10.63303534]),\n",
       " 'std_fit_time': array([0.45677192, 0.59170726]),\n",
       " 'mean_test_time': array([5.66835467, 5.37854306]),\n",
       " 'std_test_time': array([0.70256057, 0.468073  ]),\n",
       " 'params': [{'n_epochs': 7, 'n_factors': 10, 'reg_all': 0.2, 'lr_all': 0.01},\n",
       "  {'n_epochs': 9, 'n_factors': 10, 'reg_all': 0.2, 'lr_all': 0.01}],\n",
       " 'param_n_epochs': [7, 9],\n",
       " 'param_n_factors': [10, 10],\n",
       " 'param_reg_all': [0.2, 0.2],\n",
       " 'param_lr_all': [0.01, 0.01]}"
      ]
     },
     "execution_count": 26,
     "metadata": {},
     "output_type": "execute_result"
    }
   ],
   "source": [
    "gs.cv_results"
   ]
  },
  {
   "cell_type": "code",
   "execution_count": 27,
   "metadata": {},
   "outputs": [
    {
     "data": {
      "text/plain": [
       "1.0138292252720091"
      ]
     },
     "execution_count": 27,
     "metadata": {},
     "output_type": "execute_result"
    }
   ],
   "source": [
    "gs.best_score['rmse']"
   ]
  },
  {
   "cell_type": "code",
   "execution_count": null,
   "metadata": {},
   "outputs": [],
   "source": []
  }
 ],
 "metadata": {
  "kernelspec": {
   "display_name": "Python 3",
   "language": "python",
   "name": "python3"
  },
  "language_info": {
   "codemirror_mode": {
    "name": "ipython",
    "version": 3
   },
   "file_extension": ".py",
   "mimetype": "text/x-python",
   "name": "python",
   "nbconvert_exporter": "python",
   "pygments_lexer": "ipython3",
   "version": "3.6.5"
  }
 },
 "nbformat": 4,
 "nbformat_minor": 2
}
